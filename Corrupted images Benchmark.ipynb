{
 "cells": [
  {
   "cell_type": "markdown",
   "metadata": {},
   "source": [
    "# Corrupted Images Benchmark Notebook\n",
    "------------------\n",
    "This notebook contains the code used to analyze the model's robustness through corrupted image analysis. \n",
    "\n",
    "It functions primarily on Google Colab, but can be adapted to work on local hardware.\n",
    "\n",
    "It runs a Boundary Attack through the use of the Foolbox library on a given model.\n",
    "\n",
    "This code runs a single attack on a single model with a single image. \n",
    "\n",
    "It was then expanded into the attack_model function in implementations.py in order to be more easily run on multiple models."
   ]
  },
  {
   "cell_type": "code",
   "execution_count": 1,
   "metadata": {
    "colab": {
     "base_uri": "https://localhost:8080/"
    },
    "executionInfo": {
     "elapsed": 17013,
     "status": "ok",
     "timestamp": 1744979635609,
     "user": {
      "displayName": "Timothee Coester",
      "userId": "01041092910576296196"
     },
     "user_tz": -120
    },
    "id": "Je1TUI00uK0M",
    "outputId": "a65a4b1a-68e3-4c30-a2d0-ce0456e4c10c"
   },
   "outputs": [
    {
     "name": "stdout",
     "output_type": "stream",
     "text": [
      "Mounted at /content/drive\n"
     ]
    }
   ],
   "source": [
    "# STEP 1: Mount Google Drive\n",
    "from google.colab import drive\n",
    "drive.mount('/content/drive')"
   ]
  },
  {
   "cell_type": "code",
   "execution_count": 7,
   "metadata": {
    "colab": {
     "base_uri": "https://localhost:8080/"
    },
    "executionInfo": {
     "elapsed": 2114,
     "status": "ok",
     "timestamp": 1744979740776,
     "user": {
      "displayName": "Timothee Coester",
      "userId": "01041092910576296196"
     },
     "user_tz": -120
    },
    "id": "g8ZMlQJq5bdj",
    "outputId": "593b9be8-7349-4575-c059-2afc838d6166"
   },
   "outputs": [
    {
     "name": "stdout",
     "output_type": "stream",
     "text": [
      "/content/drive/MyDrive/OptiML/repo/OptML-project\n"
     ]
    }
   ],
   "source": [
    "%cd /content/drive/MyDrive/OptiML/repo/OptML-project"
   ]
  },
  {
   "cell_type": "code",
   "execution_count": null,
   "metadata": {
    "executionInfo": {
     "elapsed": 9,
     "status": "ok",
     "timestamp": 1744980171846,
     "user": {
      "displayName": "Timothee Coester",
      "userId": "01041092910576296196"
     },
     "user_tz": -120
    },
    "id": "O6tEfD88uZsy"
   },
   "outputs": [],
   "source": [
    "# STEP 2: Import required packages\n",
    "\n",
    "import numpy as np\n",
    "import pandas as pd\n",
    "import sklearn\n",
    "import torch\n",
    "import torchvision\n",
    "import torch.nn as nn\n",
    "import torch.optim as optim\n",
    "from torch.utils.data import DataLoader\n",
    "from torch.utils.data.sampler import SubsetRandomSampler\n",
    "from torchvision import datasets, transforms\n",
    "from sklearn.metrics import accuracy_score, recall_score, f1_score\n",
    "from Functions.implementations import *\n",
    "from Functions.visualization import *\n",
    "import os"
   ]
  },
  {
   "cell_type": "code",
   "execution_count": null,
   "metadata": {
    "executionInfo": {
     "elapsed": 7,
     "status": "ok",
     "timestamp": 1744981476908,
     "user": {
      "displayName": "Timothee Coester",
      "userId": "01041092910576296196"
     },
     "user_tz": -120
    },
    "id": "1NRah_iFutlS"
   },
   "outputs": [],
   "source": [
    "# STEP 3: Define paths and parameters\n",
    "\n",
    "#if google drive :\n",
    "drive_base_path = os.getcwd()\n",
    "cifar10_c_path = os.path.join(drive_base_path, 'data/CIFAR-10-C')\n",
    "model_path = os.path.join(drive_base_path, 'Results/Adam_VGG/VGG_lr_0.001_beta1_0.8_beta2_0.99.pth')"
   ]
  },
  {
   "cell_type": "code",
   "execution_count": 6,
   "metadata": {
    "executionInfo": {
     "elapsed": 1063,
     "status": "ok",
     "timestamp": 1744981479671,
     "user": {
      "displayName": "Timothee Coester",
      "userId": "01041092910576296196"
     },
     "user_tz": -120
    },
    "id": "tMeOfsAvwRh2"
   },
   "outputs": [],
   "source": [
    "# STEP 4: Load CIFAR-10 test labels\n",
    "# Load the official CIFAR-10 test set (same order as CIFAR-10-C labels)\n",
    "test_set = CIFAR10(root='./data', train=False, download=True)\n",
    "true_labels = torch.tensor(test_set.targets)  # Should have 10,000 labels\n"
   ]
  },
  {
   "cell_type": "code",
   "execution_count": 7,
   "metadata": {
    "colab": {
     "base_uri": "https://localhost:8080/"
    },
    "executionInfo": {
     "elapsed": 976,
     "status": "ok",
     "timestamp": 1744981482298,
     "user": {
      "displayName": "Timothee Coester",
      "userId": "01041092910576296196"
     },
     "user_tz": -120
    },
    "id": "jqi-4QuTx-Co",
    "outputId": "8cc5864f-05df-446e-9ddb-d3ebc944da47"
   },
   "outputs": [
    {
     "data": {
      "text/plain": [
       "VGGLike(\n",
       "  (features): Sequential(\n",
       "    (0): Conv2d(3, 64, kernel_size=(3, 3), stride=(1, 1), padding=(1, 1))\n",
       "    (1): ReLU()\n",
       "    (2): MaxPool2d(kernel_size=2, stride=2, padding=0, dilation=1, ceil_mode=False)\n",
       "    (3): Conv2d(64, 128, kernel_size=(3, 3), stride=(1, 1), padding=(1, 1))\n",
       "    (4): ReLU()\n",
       "    (5): MaxPool2d(kernel_size=2, stride=2, padding=0, dilation=1, ceil_mode=False)\n",
       "    (6): Conv2d(128, 256, kernel_size=(3, 3), stride=(1, 1), padding=(1, 1))\n",
       "    (7): ReLU()\n",
       "    (8): Conv2d(256, 256, kernel_size=(3, 3), stride=(1, 1), padding=(1, 1))\n",
       "    (9): ReLU()\n",
       "    (10): MaxPool2d(kernel_size=2, stride=2, padding=0, dilation=1, ceil_mode=False)\n",
       "  )\n",
       "  (classifier): Sequential(\n",
       "    (0): Flatten(start_dim=1, end_dim=-1)\n",
       "    (1): Linear(in_features=4096, out_features=256, bias=True)\n",
       "    (2): ReLU()\n",
       "    (3): Linear(in_features=256, out_features=10, bias=True)\n",
       "  )\n",
       ")"
      ]
     },
     "execution_count": 7,
     "metadata": {},
     "output_type": "execute_result"
    }
   ],
   "source": [
    "# STEP 5: Load your model\n",
    "# Replace with your actual model class\n",
    "from Functions.implementations import *\n",
    "\n",
    "device = torch.device(\"cuda\" if torch.cuda.is_available() else \"cpu\")\n",
    "model = VGGLike().to(device)\n",
    "model.load_state_dict(torch.load(model_path, map_location=device))\n",
    "model.eval()"
   ]
  },
  {
   "cell_type": "code",
   "execution_count": null,
   "metadata": {},
   "outputs": [],
   "source": [
    "# STEP 6: Evaluate all the models in a given folder on all corruptions\n",
    "# If you want to evaluate only one model, you can skip this step and directly evaluate the model loaded above with the evaluate_model_on_all_corruptions function.\n",
    "\n",
    "device = torch.device(\"cuda\" if torch.cuda.is_available() else \"cpu\")\n",
    "\n",
    "folder_path = os.path.join(drive_base_path, 'Results/Adam_VGG') # Path to the folder containing the models\n",
    "\n",
    "for model_name in os.listdir(folder_path):\n",
    "    model_path = os.path.join(folder_path, model_name)\n",
    "    model = VGGLike().to(device)\n",
    "    model.load_state_dict(torch.load(model_path, map_location=device))\n",
    "    model.eval()\n",
    "    results = evaluate_model_on_all_corruptions(model) # Function to evaluate the model on all corruptions\n",
    "    df = pd.DataFrame(results)\n",
    "    csv_path = os.path.join(os.path.join(folder_path, 'Corrupted'), model_name[:-4]+'.csv')\n",
    "    df.to_csv(csv_path, index=False) # Save the results to a CSV file\n",
    "    "
   ]
  },
  {
   "cell_type": "code",
   "execution_count": null,
   "metadata": {
    "colab": {
     "base_uri": "https://localhost:8080/"
    },
    "executionInfo": {
     "elapsed": 4672,
     "status": "ok",
     "timestamp": 1744981653688,
     "user": {
      "displayName": "Timothee Coester",
      "userId": "01041092910576296196"
     },
     "user_tz": -120
    },
    "id": "7-GqomhJ-9L1",
    "outputId": "d95d9522-4908-4e82-cbdc-238cc3d15cfb"
   },
   "outputs": [
    {
     "name": "stdout",
     "output_type": "stream",
     "text": [
      "F1-score on clean CIFAR-10 test set: 0.8229\n"
     ]
    }
   ],
   "source": [
    "# STEP 6: Evaluate the model on the clean CIFAR-10 test set\n",
    "clean_f1 = evaluate_on_clean_testset(model)\n",
    "print(f\"F1-score on clean CIFAR-10 test set: {clean_f1:.4f}\")"
   ]
  }
 ],
 "metadata": {
  "accelerator": "GPU",
  "colab": {
   "authorship_tag": "ABX9TyNAprpjtdHUzPpyqtlUGsdf",
   "gpuType": "T4",
   "provenance": []
  },
  "kernelspec": {
   "display_name": "optml",
   "language": "python",
   "name": "python3"
  },
  "language_info": {
   "codemirror_mode": {
    "name": "ipython",
    "version": 3
   },
   "file_extension": ".py",
   "mimetype": "text/x-python",
   "name": "python",
   "nbconvert_exporter": "python",
   "pygments_lexer": "ipython3",
   "version": "3.13.2"
  }
 },
 "nbformat": 4,
 "nbformat_minor": 0
}
