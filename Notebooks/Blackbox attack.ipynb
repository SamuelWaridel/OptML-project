{
 "cells": [
  {
   "cell_type": "markdown",
   "metadata": {},
   "source": [
    "# Blackbox Attack Notebook\n",
    "------------------\n",
    "This notebook contains the code used to perform black box attacks on the model to test robustness. \n",
    "\n",
    "It functions primarily on Google Colab, but can be adapted to work on local hardware.\n",
    "\n",
    "It runs a uses the CIFAR 10 corrupted dataset to evaluate the F1 score of a model on a corrupted image.\n",
    "\n",
    "The code was then refined to fit in the run.py pipeline."
   ]
  },
  {
   "cell_type": "code",
   "execution_count": null,
   "metadata": {},
   "outputs": [],
   "source": [
    "# STEP 1: Mount Google Drive\n",
    "from google.colab import drive\n",
    "drive.mount('/content/drive')"
   ]
  },
  {
   "cell_type": "code",
   "execution_count": null,
   "metadata": {},
   "outputs": [],
   "source": [
    "# STEP 2: Change directory to the OptiML folder in Google Drive\n",
    "%cd /content/drive/MyDrive/OptiML"
   ]
  },
  {
   "cell_type": "code",
   "execution_count": null,
   "metadata": {},
   "outputs": [],
   "source": [
    "# STEP 3: Import required packages\n",
    "\n",
    "# If running in Google Colab, install necessary packages\n",
    "#! pip install foolbox==3.3.1\n",
    "\n",
    "import numpy as np\n",
    "import pandas as pd\n",
    "import sklearn\n",
    "import torch\n",
    "import torchvision\n",
    "import torch.nn as nn\n",
    "import torch.optim as optim\n",
    "from torch.utils.data import DataLoader\n",
    "from torch.utils.data.sampler import SubsetRandomSampler\n",
    "from torchvision import datasets, transforms\n",
    "from sklearn.metrics import accuracy_score, recall_score, f1_score\n",
    "from Functions.implementations import *\n",
    "from Functions.visualization import *\n",
    "import foolbox as fb\n",
    "from tqdm import tqdm\n",
    "import os"
   ]
  },
  {
   "cell_type": "code",
   "execution_count": null,
   "metadata": {
    "executionInfo": {
     "elapsed": 9,
     "status": "ok",
     "timestamp": 1747058642506,
     "user": {
      "displayName": "Timothee Coester",
      "userId": "01041092910576296196"
     },
     "user_tz": -120
    },
    "id": "z5KL0vSUy8gW"
   },
   "outputs": [],
   "source": [
    "# STEP 4: Define paths for CIFAR-10-C dataset and model\n",
    "#if google drive :\n",
    "drive_base_path = '/content/drive/MyDrive/OptiML/repo'\n",
    "cifar10_c_path = os.path.join(drive_base_path, 'CIFAR-10-C')\n",
    "model_path = os.path.join(drive_base_path, 'OptML-project/Results/SGD/ResNet_Transform_lr_0.05_momentum_0.9.pth')"
   ]
  },
  {
   "cell_type": "code",
   "execution_count": null,
   "metadata": {
    "colab": {
     "base_uri": "https://localhost:8080/"
    },
    "executionInfo": {
     "elapsed": 15335,
     "status": "ok",
     "timestamp": 1747058664323,
     "user": {
      "displayName": "Timothee Coester",
      "userId": "01041092910576296196"
     },
     "user_tz": -120
    },
    "id": "F7gMR8M4y9Qe",
    "outputId": "615bf796-5f98-4521-ed0f-2dd674449904"
   },
   "outputs": [],
   "source": [
    "# STEP 5: Load your model\n",
    "# Replace with your actual model class\n",
    "from Functions.implementations import *\n",
    "\n",
    "device = torch.device(\"cuda\" if torch.cuda.is_available() else \"cpu\")\n",
    "model = get_resnet18_cifar().to(device)\n",
    "model.load_state_dict(torch.load(model_path, map_location=device))\n",
    "model.eval()"
   ]
  },
  {
   "cell_type": "code",
   "execution_count": null,
   "metadata": {
    "executionInfo": {
     "elapsed": 11983,
     "status": "ok",
     "timestamp": 1747058768449,
     "user": {
      "displayName": "Timothee Coester",
      "userId": "01041092910576296196"
     },
     "user_tz": -120
    },
    "id": "wa59C2R50J-3"
   },
   "outputs": [],
   "source": [
    "# STEP 6: Load CIFAR-10-C dataset\n",
    "\n",
    "transform = transforms.Compose([\n",
    "    transforms.ToTensor(),  # only ToTensor, no normalization!\n",
    "])\n",
    "\n",
    "test_dataset = CIFAR10(root=\"./data\", train=False, download=True, transform=transform)\n",
    "test_loader = DataLoader(test_dataset, batch_size=1, shuffle=True)"
   ]
  },
  {
   "cell_type": "code",
   "execution_count": null,
   "metadata": {
    "colab": {
     "base_uri": "https://localhost:8080/",
     "height": 373
    },
    "executionInfo": {
     "elapsed": 71359,
     "status": "error",
     "timestamp": 1747062320170,
     "user": {
      "displayName": "Timothee Coester",
      "userId": "01041092910576296196"
     },
     "user_tz": -120
    },
    "id": "MT1Zoh2Z2nXP",
    "outputId": "697953f7-879b-42e8-e80a-7dd4ea8ffdd3"
   },
   "outputs": [],
   "source": [
    "# Step 7: Wrap the model in Foolbox\n",
    "mean = np.array([0.4914, 0.4822, 0.4465], dtype=np.float32)\n",
    "std = np.array([0.2023, 0.1994, 0.2010], dtype=np.float32)\n",
    "\n",
    "fmodel = fb.PyTorchModel(model, bounds=(0, 1))\n",
    "\n",
    "# Step 5: Load one image from CIFAR-10\n",
    "transform = transforms.Compose([\n",
    "    transforms.ToTensor()\n",
    "])\n",
    "\n",
    "dataset = datasets.CIFAR10(root='./data', train=False, download=True, transform=transform)\n",
    "image, label = dataset[0]\n",
    "image = image.unsqueeze(0)  # Add batch dimension\n",
    "label = torch.tensor([label])\n",
    "\n",
    "print(image.shape)\n",
    "# Step 6: Run black-box attack\n",
    "attack = BoundaryAttack()\n",
    "\n",
    "# Important: HopSkipJumpAttack works in decision-based mode and needs labels\n",
    "advs, _, success = attack(fmodel, image, label, epsilons = None)\n",
    "\n",
    "print(\"Attack success:\", success.item())"
   ]
  }
 ],
 "metadata": {
  "colab": {
   "authorship_tag": "ABX9TyMiu9rYrr1x9C88f/cAdQKF",
   "provenance": []
  },
  "kernelspec": {
   "display_name": "optml",
   "language": "python",
   "name": "python3"
  },
  "language_info": {
   "codemirror_mode": {
    "name": "ipython",
    "version": 3
   },
   "file_extension": ".py",
   "mimetype": "text/x-python",
   "name": "python",
   "nbconvert_exporter": "python",
   "pygments_lexer": "ipython3",
   "version": "3.13.2"
  }
 },
 "nbformat": 4,
 "nbformat_minor": 0
}
