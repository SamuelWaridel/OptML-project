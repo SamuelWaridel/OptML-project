{
 "cells": [
  {
   "cell_type": "markdown",
   "metadata": {
    "id": "CO2mWP4U6VP6"
   },
   "source": [
    "# Finetuning SGD Notebook\n",
    "------------------\n",
    "This notebook contains the code used to train the models with the SGD optimizer. \n",
    "\n",
    "It functions primarily on Google Colab, but can be adapted to work on local hardware.\n",
    "\n",
    "It trains only one type of model and searches through hyperparameters with a Grid Search algorithm.\n",
    "\n",
    "For each model type, minimal adjustments need to be made before running the code again."
   ]
  },
  {
   "cell_type": "code",
   "execution_count": null,
   "metadata": {},
   "outputs": [
    {
     "name": "stdout",
     "output_type": "stream",
     "text": [
      "Mounted at /content/drive\n"
     ]
    }
   ],
   "source": [
    "# This script mounts Google Drive in a Google Colab environment.\n",
    "from google.colab import drive\n",
    "drive.mount('/content/drive', force_remount=True)"
   ]
  },
  {
   "cell_type": "code",
   "execution_count": null,
   "metadata": {},
   "outputs": [
    {
     "name": "stdout",
     "output_type": "stream",
     "text": [
      "/content/drive/MyDrive/OptiML/repo/OptML-project\n"
     ]
    }
   ],
   "source": [
    "# Set the current working directory to a specific path in Google Drive.\n",
    "%cd /content/drive/MyDrive/OptiML/repo/OptML-project"
   ]
  },
  {
   "cell_type": "markdown",
   "metadata": {},
   "source": [
    "## Global Imports"
   ]
  },
  {
   "cell_type": "code",
   "execution_count": null,
   "metadata": {},
   "outputs": [],
   "source": [
    "# Import necessary libraries for the project.\n",
    "import numpy as np\n",
    "import matplotlib.pyplot as plt\n",
    "import seaborn as sns\n",
    "import pandas as pd\n",
    "import sklearn\n",
    "import torch\n",
    "import torchvision\n",
    "import torch.nn as nn\n",
    "import torch.optim as optim\n",
    "from torch.utils.data import DataLoader\n",
    "from torch.utils.data.sampler import SubsetRandomSampler\n",
    "from torchvision import datasets, transforms\n",
    "from Functions.implementations import * # Import custom implementations, these contain the model definitions and training functions."
   ]
  },
  {
   "cell_type": "markdown",
   "metadata": {},
   "source": [
    "# Training with SGD optimizer :"
   ]
  },
  {
   "cell_type": "markdown",
   "metadata": {
    "id": "MIlnAeS06VQA"
   },
   "source": [
    "## Load Data"
   ]
  },
  {
   "cell_type": "code",
   "execution_count": 4,
   "metadata": {
    "executionInfo": {
     "elapsed": 22590,
     "status": "ok",
     "timestamp": 1747691549660,
     "user": {
      "displayName": "Timothee Coester",
      "userId": "01041092910576296196"
     },
     "user_tz": -120
    },
    "id": "JNDjAV2f6VQB"
   },
   "outputs": [],
   "source": [
    "device = torch.device(\"cuda\" if torch.cuda.is_available() else \"cpu\")\n",
    "\n",
    "model = SimpleCNN().to(device)\n",
    "train_loader,valid_loader, test_loader = get_data_loaders()"
   ]
  },
  {
   "cell_type": "markdown",
   "metadata": {
    "id": "Jo3A5BJ_6VQB"
   },
   "source": [
    "Train and evaluate a simple model to test if everything works."
   ]
  },
  {
   "cell_type": "markdown",
   "metadata": {
    "id": "MzGYXB1z6VQC"
   },
   "source": [
    "## SGD :"
   ]
  },
  {
   "cell_type": "code",
   "execution_count": null,
   "metadata": {
    "executionInfo": {
     "elapsed": 1617,
     "status": "ok",
     "timestamp": 1747691551272,
     "user": {
      "displayName": "Timothee Coester",
      "userId": "01041092910576296196"
     },
     "user_tz": -120
    },
    "id": "fC5fGgKm6VQC"
   },
   "outputs": [],
   "source": [
    "import os\n",
    "\n",
    "#only for google Colab :\n",
    "\n",
    "# Set a path in your Google Drive\n",
    "csv_path = \"/content/drive/MyDrive/OptiML/repo/OptML-project_SGD_DenseNet_Transform.csv\"\n",
    "save_path = \"/content/drive/MyDrive/OptiML/repo/OptML-project/Results/SGD\"\n",
    "# For local machine, set the path to your desired location\n",
    "\n",
    "# Set the number of epochs and evaluation interval\n",
    "epochs = 100\n",
    "eval_interval = 10 # Interval for evaluation and saving results\n",
    "\n",
    "# Create the CSV with headers if it doesn't exist\n",
    "if not os.path.exists(csv_path):\n",
    "    columns = [\"learning_rate\", \"beta_1\",\"beta_2\"] +  [f\"epoch_{i}\" for i in range(epochs//eval_interval, epochs + 1, eval_interval)] + [\"Test\"]\n",
    "    pd.DataFrame(columns=columns).to_csv(csv_path, index=False)\n",
    "\n",
    "set_seed(42) # Set seed for reproducibility through custom function as done throughtout the project"
   ]
  },
  {
   "cell_type": "code",
   "execution_count": null,
   "metadata": {
    "colab": {
     "base_uri": "https://localhost:8080/"
    },
    "executionInfo": {
     "elapsed": 14511022,
     "status": "ok",
     "timestamp": 1747706065481,
     "user": {
      "displayName": "Timothee Coester",
      "userId": "01041092910576296196"
     },
     "user_tz": -120
    },
    "id": "xlm6NBac6VQD",
    "outputId": "7a9a9df2-e7c3-475a-a2af-3f9835a01122"
   },
   "outputs": [
    {
     "name": "stdout",
     "output_type": "stream",
     "text": [
      "\n",
      "🔧 Training with SGD: lr=0.001, momentum=0.99\n",
      "Epoch 10 | Acc=0.8162 | Recall=0.8157 | F1=0.8154\n",
      "Epoch 20 | Acc=0.8638 | Recall=0.8639 | F1=0.8642\n",
      "Epoch 30 | Acc=0.8834 | Recall=0.8831 | F1=0.8834\n",
      "Epoch 40 | Acc=0.8872 | Recall=0.8876 | F1=0.8878\n",
      "Epoch 50 | Acc=0.8894 | Recall=0.8895 | F1=0.8896\n",
      "Epoch 60 | Acc=0.9026 | Recall=0.9025 | F1=0.9022\n",
      "Epoch 70 | Acc=0.9042 | Recall=0.9041 | F1=0.9040\n",
      "Epoch 80 | Acc=0.9094 | Recall=0.9095 | F1=0.9091\n",
      "Epoch 90 | Acc=0.9064 | Recall=0.9068 | F1=0.9066\n",
      "Epoch 100 | Acc=0.9068 | Recall=0.9070 | F1=0.9069\n",
      "\n",
      "Test Set Evaluation: Acc=0.9065 | Recall=0.9065 | F1=0.9062\n"
     ]
    }
   ],
   "source": [
    "from itertools import product\n",
    "\n",
    "# Define the device to use for training (GPU if available, otherwise CPU)\n",
    "device = torch.device(\"cuda\" if torch.cuda.is_available() else \"cpu\")\n",
    "\n",
    "# Function to get data loaders for training, validation, and testing\n",
    "train_loader,valid_loader, test_loader = get_data_loaders(batch_size=128)\n",
    "\n",
    "# Set up a dictionary to store results\n",
    "results_grid = {}\n",
    "\n",
    "# Define the hyperparameters for the grid search\n",
    "# Chosen hyperparameters over which to perform the grid search\n",
    "# learning_rates = [5e-2, 1e-2, 5e-3, 1e-3]\n",
    "# momentums = [0.0, 0.6, 0.9, 0.99]\n",
    "\n",
    "learning_rates = [1e-3]\n",
    "momentums = [0.99]\n",
    "\n",
    "# Iterate over all combinations of lr and momentum\n",
    "for lr, momentum in product(learning_rates, momentums):\n",
    "    scores, model = train_and_return_evaluation_SGD(\n",
    "        get_densenet121, # Model type that needs to be trained, needs to be changed for different model types. Options are defined in the implementations.py file.\n",
    "        lr=lr,\n",
    "        momentum=momentum,\n",
    "        train_loader=train_loader,\n",
    "        valid_loader=valid_loader,\n",
    "        test_loader=test_loader,\n",
    "        device=device,\n",
    "        epochs=epochs,\n",
    "        eval_interval=eval_interval\n",
    "    )\n",
    "    results_grid[(lr, momentum)] = scores # Store the scores for each combination of hyperparameters\n",
    "\n",
    "    # Extract F1 scores only, for CSV export\n",
    "    f1_scores = [f1 for (_, _, _, f1) in scores]\n",
    "\n",
    "    row = [lr, momentum] + f1_scores\n",
    "\n",
    "    # Append to CSV\n",
    "    df_row = pd.DataFrame([row])\n",
    "    df_row.to_csv(csv_path, mode='a', header=False, index=False)\n",
    "\n",
    "    # Save the model\n",
    "    torch.save(model.state_dict(), save_path + f\"/DenseNet_Transform_lr_{lr}_momentum_{momentum}.pth\")"
   ]
  },
  {
   "cell_type": "code",
   "execution_count": null,
   "metadata": {
    "id": "CxNfHTNZ6VQE"
   },
   "outputs": [],
   "source": []
  }
 ],
 "metadata": {
  "accelerator": "GPU",
  "colab": {
   "gpuType": "T4",
   "provenance": []
  },
  "kernelspec": {
   "display_name": "optml",
   "language": "python",
   "name": "python3"
  },
  "language_info": {
   "codemirror_mode": {
    "name": "ipython",
    "version": 3
   },
   "file_extension": ".py",
   "mimetype": "text/x-python",
   "name": "python",
   "nbconvert_exporter": "python",
   "pygments_lexer": "ipython3",
   "version": "3.13.2"
  }
 },
 "nbformat": 4,
 "nbformat_minor": 0
}
