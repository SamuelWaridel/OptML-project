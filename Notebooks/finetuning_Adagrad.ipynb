{
  "cells": [
    {
      "cell_type": "markdown",
      "metadata": {
        "id": "CO2mWP4U6VP6"
      },
      "source": [
        "# Finetuning Adagrad Notebook\n",
        "------------------\n",
        "This notebook contains the code used to train the models with the Adagrad optimizer. \n",
        "\n",
        "It functions primarily on Google Colab, but can be adapted to work on local hardware.\n",
        "\n",
        "It trains only one type of model and searches through hyperparameters with a Grid Search algorithm.\n",
        "\n",
        "For each model type, minimal adjustments need to be made before running the code again."
      ]
    },
    {
      "cell_type": "code",
      "execution_count": null,
      "metadata": {},
      "outputs": [
        {
          "name": "stdout",
          "output_type": "stream",
          "text": [
            "Mounted at /content/drive\n"
          ]
        }
      ],
      "source": [
        "# This script mounts Google Drive in a Google Colab environment.\n",
        "from google.colab import drive\n",
        "drive.mount('/content/drive', force_remount=True)"
      ]
    },
    {
      "cell_type": "code",
      "execution_count": null,
      "metadata": {},
      "outputs": [
        {
          "name": "stdout",
          "output_type": "stream",
          "text": [
            "/content/drive/MyDrive/OptiML/repo/OptML-project\n"
          ]
        }
      ],
      "source": [
        "# Set the current working directory to a specific path in Google Drive.\n",
        "%cd /content/drive/MyDrive/OptiML/repo/OptML-project"
      ]
    },
    {
      "cell_type": "markdown",
      "metadata": {},
      "source": [
        "## Global Imports"
      ]
    },
    {
      "cell_type": "code",
      "execution_count": null,
      "metadata": {},
      "outputs": [],
      "source": [
        "# Import necessary libraries for the project.\n",
        "import numpy as np\n",
        "import matplotlib.pyplot as plt\n",
        "import seaborn as sns\n",
        "import pandas as pd\n",
        "import sklearn\n",
        "import torch\n",
        "import torchvision\n",
        "import torch.nn as nn\n",
        "import torch.optim as optim\n",
        "from torch.utils.data import DataLoader\n",
        "from torch.utils.data.sampler import SubsetRandomSampler\n",
        "from torchvision import datasets, transforms\n",
        "from Functions.implementations import * # Import custom implementations, these contain the model definitions and training functions."
      ]
    },
    {
      "cell_type": "code",
      "execution_count": null,
      "metadata": {
        "id": "iX4SKSl7Diiz"
      },
      "outputs": [],
      "source": [
        "import sys\n",
        "sys.path.append('/content/drive/MyDrive/Functions')\n",
        "\n",
        "from implementations import *"
      ]
    },
    {
      "cell_type": "markdown",
      "metadata": {
        "id": "MIlnAeS06VQA"
      },
      "source": [
        "## Load Data"
      ]
    },
    {
      "cell_type": "code",
      "execution_count": null,
      "metadata": {
        "colab": {
          "base_uri": "https://localhost:8080/"
        },
        "id": "JNDjAV2f6VQB",
        "outputId": "fcd2896c-efef-48b4-afba-1d31a98a0952"
      },
      "outputs": [
        {
          "name": "stderr",
          "output_type": "stream",
          "text": [
            "100%|██████████| 170M/170M [00:04<00:00, 41.9MB/s]\n"
          ]
        }
      ],
      "source": [
        "device = torch.device(\"cuda\" if torch.cuda.is_available() else \"cpu\")\n",
        "\n",
        "model = SimpleCNN().to(device)\n",
        "train_loader,valid_loader, test_loader = get_data_loaders()"
      ]
    },
    {
      "cell_type": "markdown",
      "metadata": {
        "id": "Jo3A5BJ_6VQB"
      },
      "source": [
        "Train and evaluate a simple model to test if everything works."
      ]
    },
    {
      "cell_type": "markdown",
      "metadata": {
        "id": "WNxO48ksw9l0"
      },
      "source": [
        "# Adagrad :"
      ]
    },
    {
      "cell_type": "code",
      "execution_count": null,
      "metadata": {
        "id": "CxNfHTNZ6VQE"
      },
      "outputs": [],
      "source": [
        "import os\n",
        "\n",
        "#only for google Colab :\n",
        "\n",
        "# Set a path in your Google Drive\n",
        "csv_path = \"/content/drive/MyDrive/OptML-project_ADAGRAD_DenseNet.csv\"\n",
        "save_path = \"/content/drive/MyDrive/Results\"\n",
        "# For local machine, set the path to your desired location\n",
        "\n",
        "\n",
        "epochs = 100\n",
        "eval_interval = 10\n",
        "\n",
        "# Create the CSV with headers if it doesn't exist\n",
        "if not os.path.exists(csv_path):\n",
        "    columns = [\"learning_rate\", \"weight_decay\", \"lr_decay\"] +  [f\"epoch_{i}\" for i in range(epochs//eval_interval, epochs + 1, eval_interval)] + [\"Test\"]\n",
        "    pd.DataFrame(columns=columns).to_csv(csv_path, index=False)\n",
        "\n",
        "set_seed(42) # Set a random seed for reproducibility"
      ]
    },
    {
      "cell_type": "code",
      "execution_count": null,
      "metadata": {
        "colab": {
          "base_uri": "https://localhost:8080/"
        },
        "id": "aOviMdDR4i9B",
        "outputId": "003c5dbe-ab0a-4d5a-d183-61ffca337fa9"
      },
      "outputs": [
        {
          "name": "stdout",
          "output_type": "stream",
          "text": [
            "\n",
            "🔧 Training with Adagrad: lr=0.05, lr_decay=0.0, weight_decay=0.001\n",
            "Epoch 10 | Acc=0.7452 | Recall=0.7453 | F1=0.7457\n",
            "Epoch 20 | Acc=0.8142 | Recall=0.8146 | F1=0.8136\n",
            "Epoch 30 | Acc=0.8206 | Recall=0.8218 | F1=0.8225\n",
            "Epoch 40 | Acc=0.8498 | Recall=0.8503 | F1=0.8508\n",
            "Epoch 50 | Acc=0.8282 | Recall=0.8291 | F1=0.8315\n",
            "Epoch 60 | Acc=0.8646 | Recall=0.8645 | F1=0.8646\n",
            "Epoch 70 | Acc=0.8626 | Recall=0.8628 | F1=0.8622\n",
            "Epoch 80 | Acc=0.8670 | Recall=0.8674 | F1=0.8676\n",
            "Epoch 90 | Acc=0.8546 | Recall=0.8552 | F1=0.8560\n",
            "Epoch 100 | Acc=0.8664 | Recall=0.8662 | F1=0.8653\n",
            "\n",
            "Test Set Evaluation: Acc=0.8634 | Recall=0.8634 | F1=0.8619\n",
            "\n",
            "🔧 Training with Adagrad: lr=0.01, lr_decay=0.0, weight_decay=0.001\n",
            "Epoch 10 | Acc=0.8032 | Recall=0.8016 | F1=0.7983\n",
            "Epoch 20 | Acc=0.8808 | Recall=0.8810 | F1=0.8805\n",
            "Epoch 30 | Acc=0.8908 | Recall=0.8903 | F1=0.8910\n",
            "Epoch 40 | Acc=0.9074 | Recall=0.9073 | F1=0.9072\n",
            "Epoch 50 | Acc=0.8974 | Recall=0.8961 | F1=0.8969\n",
            "Epoch 60 | Acc=0.8878 | Recall=0.8884 | F1=0.8886\n",
            "Epoch 70 | Acc=0.8996 | Recall=0.9001 | F1=0.8999\n"
          ]
        }
      ],
      "source": [
        "from itertools import product\n",
        "\n",
        "device = torch.device(\"cuda\" if torch.cuda.is_available() else \"cpu\")\n",
        "train_loader, valid_loader, test_loader = get_data_loaders(batch_size=128)\n",
        "\n",
        "results_grid = {}\n",
        "\n",
        "# Define the hyperparameters for the grid search\n",
        "learning_rates = [5e-2, 1e-2, 5e-3]\n",
        "weight_decays = [0.0, 1e-3, 1e-4]\n",
        "lr_decays = [0.0, 1e-3]\n",
        "\n",
        "# Iterate over all combinations of hyperparameters\n",
        "for lr, wd, lr_decay in product(learning_rates, weight_decays, lr_decays):\n",
        "    scores, model = train_and_return_evaluation_Adagrad(\n",
        "        get_densenet121,  # Model type that needs to be trained, needs to be changed for different model types. Options are defined in the implementations.py file.\n",
        "        lr=lr,\n",
        "        lr_decay=lr_decay,\n",
        "        weight_decay=wd,\n",
        "        train_loader=train_loader,\n",
        "        valid_loader=valid_loader,\n",
        "        test_loader=test_loader,\n",
        "        device=device,\n",
        "        epochs=epochs,\n",
        "        eval_interval=eval_interval)\n",
        "\n",
        "    # Store the results in the grid\n",
        "    results_grid[(lr, wd, lr_decay)] = scores\n",
        "\n",
        "    # Extrac F1 scores for the CSV\n",
        "    f1_scores = [f1 for (_, _, _, f1) in scores]\n",
        "    row = [lr, wd, lr_decay] + f1_scores\n",
        "\n",
        "    df_row = pd.DataFrame([row])\n",
        "    df_row.to_csv(csv_path, mode='a', header=False, index=False)\n",
        "\n",
        "    # Saving the model\n",
        "    torch.save(model.state_dict(), save_path + f\"/DenseNet_Adagrad_lr_{lr}_wd_{wd}_decay_{lr_decay}.pth\")\n"
      ]
    },
    {
      "cell_type": "code",
      "execution_count": null,
      "metadata": {
        "id": "WSraP_Dq9oLJ"
      },
      "outputs": [],
      "source": []
    }
  ],
  "metadata": {
    "accelerator": "GPU",
    "colab": {
      "gpuType": "T4",
      "provenance": []
    },
    "kernelspec": {
      "display_name": "Python 3",
      "name": "python3"
    },
    "language_info": {
      "codemirror_mode": {
        "name": "ipython",
        "version": 3
      },
      "file_extension": ".py",
      "mimetype": "text/x-python",
      "name": "python",
      "nbconvert_exporter": "python",
      "pygments_lexer": "ipython3",
      "version": "3.13.2"
    }
  },
  "nbformat": 4,
  "nbformat_minor": 0
}
