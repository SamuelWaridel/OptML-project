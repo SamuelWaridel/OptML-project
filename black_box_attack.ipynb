{
 "cells": [
  {
   "cell_type": "code",
   "execution_count": null,
   "id": "550ad25a",
   "metadata": {},
   "outputs": [],
   "source": [
    "from google.colab import drive\n",
    "drive.mount('/content/drive', force_remount=True)"
   ]
  },
  {
   "cell_type": "code",
   "execution_count": null,
   "id": "f1a24625",
   "metadata": {},
   "outputs": [],
   "source": [
    "%cd /content/drive/MyDrive/OptiML"
   ]
  },
  {
   "cell_type": "code",
   "execution_count": null,
   "id": "d3a2f73e",
   "metadata": {},
   "outputs": [],
   "source": [
    "! pip install foolbox==3.3.1"
   ]
  },
  {
   "cell_type": "code",
   "execution_count": 1,
   "id": "4cc4ff76",
   "metadata": {},
   "outputs": [],
   "source": [
    "import numpy as np\n",
    "import matplotlib.pyplot as plt\n",
    "import seaborn as sns\n",
    "import pandas as pd\n",
    "import sklearn\n",
    "import torch\n",
    "import torchvision\n",
    "import torch.nn as nn\n",
    "import torch.optim as optim\n",
    "from torch.utils.data import DataLoader\n",
    "from torch.utils.data.sampler import SubsetRandomSampler\n",
    "from torchvision import datasets, transforms\n",
    "from sklearn.metrics import accuracy_score, recall_score, f1_score\n",
    "from Functions.implementations import *\n",
    "from Functions.visualization import *\n",
    "import foolbox as fb\n",
    "from tqdm import tqdm\n",
    "import os"
   ]
  },
  {
   "cell_type": "code",
   "execution_count": 46,
   "id": "73e75448",
   "metadata": {},
   "outputs": [],
   "source": [
    "def attack_n_batches(model, test_loader, device, n_batches=3):\n",
    "    \"\"\"\n",
    "    Run a black-box attack on a model for a specified number of batches.\n",
    "    \n",
    "    Args:\n",
    "        model: The model to attack.\n",
    "        test_loader: DataLoader for the test dataset.\n",
    "        n_batches: Number of batches to process.\n",
    "        \n",
    "    Returns:\n",
    "        success_rate: Success rate of the attack.\n",
    "        avg_perturbation: Average perturbation of the adversarial examples.\n",
    "        avg_queries: Average number of queries made (if applicable).\n",
    "    \"\"\"\n",
    "    # Ensure the model is in evaluation mode\n",
    "    fmodel = fb.PyTorchModel(model, bounds=(0, 1))\n",
    "    \n",
    "    # Initialize lists to store results\n",
    "    successes, perturbations, queries = [], [], []\n",
    "\n",
    "    # Iterate over three batches of images\n",
    "    for i in tqdm(range(n_batches), desc=\"Attacking model\"):\n",
    "        images, labels = next(iter(test_loader))\n",
    "        images, labels = images.to(device), labels.to(device)\n",
    "        # Optionally, filter out misclassified samples\n",
    "        preds = model(images).argmax(dim=1)\n",
    "        mask = preds == labels\n",
    "        if mask.sum() == 0:\n",
    "            continue\n",
    "        images, labels = images[mask], labels[mask]\n",
    "        # Run attack\n",
    "        attack = fb.attacks.BoundaryAttack()\n",
    "        raw_advs, clipped_advs, success = attack(fmodel, images, labels, epsilons=None)\n",
    "        # Collect metrics\n",
    "        successes.append(success.cpu())\n",
    "        perturbations.append((clipped_advs - images).view(images.size(0), -1).norm(dim=1).cpu())\n",
    "        # If available, track queries (depends on attack implementation)\n",
    "        queries.append(attack.queries.cpu()) if hasattr(attack, 'queries') else None\n",
    "    # Aggregate and report\n",
    "    if successes:\n",
    "        success_rate = torch.cat(successes).float().mean().item()\n",
    "        avg_perturbation = torch.cat(perturbations).mean().item()\n",
    "        avg_queries = torch.cat(queries).float().mean().item() if queries else None\n",
    "    else:\n",
    "        print(\"No successful batches processed. Check your data or model accuracy.\")\n",
    "        success_rate, avg_perturbation, avg_queries = None, None, None\n",
    "    return success_rate, avg_perturbation, avg_queries\n",
    "\n",
    "# extract the learning rate, beta_1, and beta_2 from the model name\n",
    "def extract_params(model_name):\n",
    "    parts = model_name.split('_')\n",
    "    learning_rate = float(parts[2])\n",
    "    beta_1 = float(parts[4])\n",
    "    beta_2 = float(parts[6][:-4])\n",
    "    return learning_rate, beta_1, beta_2"
   ]
  },
  {
   "cell_type": "code",
   "execution_count": 48,
   "id": "8f33bace",
   "metadata": {},
   "outputs": [
    {
     "name": "stdout",
     "output_type": "stream",
     "text": [
      "Loading model:  VGG_lr_5e-05_beta1_0.9_beta2_0.999.pth\n"
     ]
    },
    {
     "name": "stderr",
     "output_type": "stream",
     "text": [
      "Attacking model: 100%|██████████| 3/3 [04:51<00:00, 97.11s/it] "
     ]
    },
    {
     "name": "stdout",
     "output_type": "stream",
     "text": [
      "Saving results\n"
     ]
    },
    {
     "name": "stderr",
     "output_type": "stream",
     "text": [
      "\n"
     ]
    }
   ],
   "source": [
    "set_seed(42)\n",
    "\n",
    "n_batches = 3\n",
    "batch_size = 1\n",
    "_, _, test_loader = get_data_loaders(batch_size=batch_size)\n",
    "\n",
    "drive_base_path = os.getcwd()\n",
    "folder_path = os.path.join(drive_base_path, 'Results/Adam_VGG')\n",
    "csv_path = os.path.join(folder_path, 'VGGBlackBox.csv')\n",
    "if not os.path.exists(csv_path):\n",
    "    columns = [\"file_name\", \"learning_rate\", \"beta_1\", \"beta_2\",\"success_rate\",\"avg_perturbations\",\"avg_queries\"]\n",
    "    pd.DataFrame(columns=columns).to_csv(csv_path, index=False)\n",
    "\n",
    "i = 0\n",
    "\n",
    "for model_name in os.listdir(folder_path):\n",
    "    print(\"Loading model: \", model_name)\n",
    "    i += 1\n",
    "    if not model_name.endswith('.pth'):\n",
    "        continue\n",
    "    model_path = os.path.join(folder_path, model_name)\n",
    "    device = torch.device(\"cuda\" if torch.cuda.is_available() else \"cpu\")\n",
    "    model = VGGLike().to(device)\n",
    "    model.load_state_dict(torch.load(model_path, map_location=device))\n",
    "    model.eval()\n",
    "    results = attack_n_batches(model, test_loader, device, n_batches)\n",
    "    print(\"Saving results\")\n",
    "    df = pd.DataFrame([model_name] + list(extract_params(model_name)) + list(results)).T\n",
    "    df.to_csv(csv_path, mode='a', header=False, index=False)\n",
    "    clear_output(wait=True)\n",
    "    "
   ]
  },
  {
   "cell_type": "code",
   "execution_count": null,
   "id": "2e4965db",
   "metadata": {},
   "outputs": [],
   "source": []
  }
 ],
 "metadata": {
  "kernelspec": {
   "display_name": "optml",
   "language": "python",
   "name": "python3"
  },
  "language_info": {
   "codemirror_mode": {
    "name": "ipython",
    "version": 3
   },
   "file_extension": ".py",
   "mimetype": "text/x-python",
   "name": "python",
   "nbconvert_exporter": "python",
   "pygments_lexer": "ipython3",
   "version": "3.13.2"
  }
 },
 "nbformat": 4,
 "nbformat_minor": 5
}
