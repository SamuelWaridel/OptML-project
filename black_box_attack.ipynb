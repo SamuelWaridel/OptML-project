{
 "cells": [
  {
   "cell_type": "code",
   "execution_count": 20,
   "id": "550ad25a",
   "metadata": {},
   "outputs": [
    {
     "ename": "ModuleNotFoundError",
     "evalue": "No module named 'google'",
     "output_type": "error",
     "traceback": [
      "\u001b[1;31m---------------------------------------------------------------------------\u001b[0m",
      "\u001b[1;31mModuleNotFoundError\u001b[0m                       Traceback (most recent call last)",
      "Cell \u001b[1;32mIn[20], line 1\u001b[0m\n\u001b[1;32m----> 1\u001b[0m \u001b[38;5;28;01mfrom\u001b[39;00m \u001b[38;5;21;01mgoogle\u001b[39;00m\u001b[38;5;21;01m.\u001b[39;00m\u001b[38;5;21;01mcolab\u001b[39;00m \u001b[38;5;28;01mimport\u001b[39;00m drive\n\u001b[0;32m      2\u001b[0m drive\u001b[38;5;241m.\u001b[39mmount(\u001b[38;5;124m'\u001b[39m\u001b[38;5;124m/content/drive\u001b[39m\u001b[38;5;124m'\u001b[39m, force_remount\u001b[38;5;241m=\u001b[39m\u001b[38;5;28;01mTrue\u001b[39;00m)\n",
      "\u001b[1;31mModuleNotFoundError\u001b[0m: No module named 'google'"
     ]
    }
   ],
   "source": [
    "from google.colab import drive\n",
    "drive.mount('/content/drive', force_remount=True)"
   ]
  },
  {
   "cell_type": "code",
   "execution_count": null,
   "id": "f1a24625",
   "metadata": {},
   "outputs": [],
   "source": [
    "%cd /content/drive/MyDrive/OptiML"
   ]
  },
  {
   "cell_type": "code",
   "execution_count": null,
   "id": "d3a2f73e",
   "metadata": {},
   "outputs": [],
   "source": [
    "! pip install foolbox==3.3.1"
   ]
  },
  {
   "cell_type": "code",
   "execution_count": 1,
   "id": "4cc4ff76",
   "metadata": {},
   "outputs": [],
   "source": [
    "import numpy as np\n",
    "import matplotlib.pyplot as plt\n",
    "import seaborn as sns\n",
    "import pandas as pd\n",
    "import sklearn\n",
    "import torch\n",
    "import torchvision\n",
    "import torch.nn as nn\n",
    "import torch.optim as optim\n",
    "from torch.utils.data import DataLoader\n",
    "from torch.utils.data.sampler import SubsetRandomSampler\n",
    "from torchvision import datasets, transforms\n",
    "from sklearn.metrics import accuracy_score, recall_score, f1_score\n",
    "from Functions.implementations import *\n",
    "from Functions.visualization import *\n",
    "import foolbox as fb\n",
    "from tqdm import tqdm\n",
    "import os"
   ]
  },
  {
   "cell_type": "code",
   "execution_count": null,
   "id": "73e75448",
   "metadata": {},
   "outputs": [],
   "source": [
    "def attack_n_batches(model, test_loader, device, n_batches=3, attack = fb.attacks.BoundaryAttack()):\n",
    "    \"\"\"\n",
    "    Run a black-box attack on a model for a specified number of batches.\n",
    "    \n",
    "    Args:\n",
    "        model: The model to attack.\n",
    "        test_loader: DataLoader for the test dataset.\n",
    "        n_batches: Number of batches to process.\n",
    "        \n",
    "    Returns:\n",
    "        success_rate: Success rate of the attack.\n",
    "        avg_perturbation: Average perturbation of the adversarial examples.\n",
    "        avg_queries: Average number of queries made (if applicable).\n",
    "    \"\"\"\n",
    "    # Ensure the model is in evaluation mode\n",
    "    fmodel = fb.PyTorchModel(model, bounds=(0, 1))\n",
    "    \n",
    "    # Initialize lists to store results\n",
    "    successes, perturbations, queries = [], [], []\n",
    "\n",
    "    # Iterate over three batches of images\n",
    "    for i in tqdm(range(n_batches), desc=\"Attacking model\"):\n",
    "        images, labels = next(iter(test_loader))\n",
    "        images, labels = images.to(device), labels.to(device)\n",
    "        # Optionally, filter out misclassified samples\n",
    "        preds = model(images).argmax(dim=1)\n",
    "        mask = preds == labels\n",
    "        if mask.sum() == 0:\n",
    "            continue\n",
    "        images, labels = images[mask], labels[mask]\n",
    "        # Run attack\n",
    "        raw_advs, clipped_advs, success = attack(fmodel, images, labels, epsilons=None)\n",
    "        # Collect metrics\n",
    "        successes.append(success.cpu())\n",
    "        perturbations.append((clipped_advs - images).view(images.size(0), -1).norm(dim=1).cpu())\n",
    "        # If available, track queries (depends on attack implementation)\n",
    "        queries.append(attack.queries.cpu()) if hasattr(attack, 'queries') else None\n",
    "    # Aggregate and report\n",
    "    if successes:\n",
    "        success_rate = torch.cat(successes).float().mean().item()\n",
    "        avg_perturbation = torch.cat(perturbations).mean().item()\n",
    "        avg_queries = torch.cat(queries).float().mean().item() if queries else None\n",
    "    else:\n",
    "        print(\"No successful batches processed. Check your data or model accuracy.\")\n",
    "        success_rate, avg_perturbation, avg_queries = None, None, None\n",
    "    return success_rate, avg_perturbation, avg_queries\n",
    "\n",
    "# extract the learning rate, beta_1, and beta_2 from the model name\n",
    "def extract_params(model_name):\n",
    "    parts = model_name.split('_')\n",
    "    learning_rate = float(parts[2])\n",
    "    beta_1 = float(parts[4])\n",
    "    beta_2 = float(parts[6][:-4])\n",
    "    return learning_rate, beta_1, beta_2"
   ]
  },
  {
   "cell_type": "code",
   "execution_count": null,
   "id": "8f33bace",
   "metadata": {},
   "outputs": [],
   "source": [
    "set_seed(42) # Set seed through custom function as done throughtout the project\n",
    "\n",
    "n_batches = 16\n",
    "batch_size = 16\n",
    "_, _, test_loader = get_data_loaders(batch_size=batch_size)\n",
    "\n",
    "drive_base_path = os.getcwd()\n",
    "folder_path = os.path.join(drive_base_path, 'Results/Adam_densenet')\n",
    "csv_path = os.path.join(folder_path, 'densenetBlackBox_topmodel.csv')\n",
    "\n",
    "#model_list = ['VGG_lr_0.0005_beta1_0.9_beta2_0.98.pth']#, 'VGG_lr_0.0005_beta1_0.8_beta2_0.99.pth', 'VGG_lr_0.0005_beta1_0.8_beta2_0.98.pth'] # for VGG models\n",
    "#model_list = ['resnet_lr_0.001_beta1_0.8_beta2_0.999.pth']#, 'resnet_lr_0.001_beta1_0.9_beta2_0.99.pth', 'resnet_lr_0.001_beta1_0.8_beta2_0.9999.pth'] # for resnet models\n",
    "model_list = ['densenet_lr_0.001_beta1_0.8_beta2_0.9999.pth']#, 'densenet_lr_0.0005_beta1_0.9_beta2_0.999.pth', 'densenet_lr_0.001_beta1_0.9_beta2_0.9999.pth'] # for densenet models\n",
    "\n",
    "attack_list = [\n",
    "    fb.attacks.BoundaryAttack(),\n",
    "    fb.attacks.GaussianBlurAttack(),\n",
    "    fb.attacks.SaltAndPepperNoiseAttack()\n",
    "]\n",
    "\n",
    "if not os.path.exists(csv_path):\n",
    "    columns = [\"file_name\", \"learning_rate\", \"beta_1\", \"beta_2\", \"attack_type\",\"success_rate\",\"avg_perturbations\",\"avg_queries\"]\n",
    "    pd.DataFrame(columns=columns).to_csv(csv_path, index=False)\n",
    "\n",
    "for model_name in model_list:\n",
    "    if os.path.exists(os.path.join(folder_path, model_name)):\n",
    "        print(f\"File {model_name} exists in the folder.\")\n",
    "    else:\n",
    "        print(f\"File {model_name} does not exist in the folder. Please check the path or file name.\")\n",
    "        continue\n",
    "    print(\"Loading model: \", model_name)\n",
    "    if not model_name.endswith('.pth'):\n",
    "        continue\n",
    "    model_path = os.path.join(folder_path, model_name)\n",
    "    device = torch.device(\"cuda\" if torch.cuda.is_available() else \"cpu\")\n",
    "    #model = VGGLike().to(device) # for VGG models\n",
    "    #model = get_resnet18_cifar().to(device) # for resnet models\n",
    "    model = get_densenet121().to(device) # for densenet models\n",
    "    model.load_state_dict(torch.load(model_path, map_location=device))\n",
    "    model.eval()\n",
    "    for attack in attack_list:\n",
    "        print(f\"Running attack: {attack.__class__.__name__}\")\n",
    "        results = attack_n_batches(model, test_loader, device, n_batches, attack)\n",
    "        print(\"Saving results\")\n",
    "        df = pd.DataFrame([model_name] + list(extract_params(model_name)) + [attack.__class__.__name__] + list(results)).T\n",
    "        df.to_csv(csv_path, mode='a', header=False, index=False)\n",
    "        clear_output(wait=True)\n",
    "    "
   ]
  },
  {
   "cell_type": "code",
   "execution_count": null,
   "id": "6a1b2fe2",
   "metadata": {},
   "outputs": [],
   "source": []
  }
 ],
 "metadata": {
  "kernelspec": {
   "display_name": "optml",
   "language": "python",
   "name": "python3"
  },
  "language_info": {
   "codemirror_mode": {
    "name": "ipython",
    "version": 3
   },
   "file_extension": ".py",
   "mimetype": "text/x-python",
   "name": "python",
   "nbconvert_exporter": "python",
   "pygments_lexer": "ipython3",
   "version": "3.13.2"
  }
 },
 "nbformat": 4,
 "nbformat_minor": 5
}
