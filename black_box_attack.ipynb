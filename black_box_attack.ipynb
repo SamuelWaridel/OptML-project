{
 "cells": [
  {
   "cell_type": "code",
   "execution_count": null,
   "id": "550ad25a",
   "metadata": {},
   "outputs": [],
   "source": [
    "from google.colab import drive\n",
    "drive.mount('/content/drive', force_remount=True)"
   ]
  },
  {
   "cell_type": "code",
   "execution_count": null,
   "id": "f1a24625",
   "metadata": {},
   "outputs": [],
   "source": [
    "%cd /content/drive/MyDrive/OptiML"
   ]
  },
  {
   "cell_type": "code",
   "execution_count": null,
   "id": "d3a2f73e",
   "metadata": {},
   "outputs": [],
   "source": [
    "! pip install foolbox==3.3.1"
   ]
  },
  {
   "cell_type": "code",
   "execution_count": null,
   "id": "4cc4ff76",
   "metadata": {},
   "outputs": [],
   "source": [
    "import numpy as np\n",
    "import matplotlib.pyplot as plt\n",
    "import seaborn as sns\n",
    "import pandas as pd\n",
    "import sklearn\n",
    "import torch\n",
    "import torchvision\n",
    "import torch.nn as nn\n",
    "import torch.optim as optim\n",
    "from torch.utils.data import DataLoader\n",
    "from torch.utils.data.sampler import SubsetRandomSampler\n",
    "from torchvision import datasets, transforms\n",
    "from sklearn.metrics import accuracy_score, recall_score, f1_score\n",
    "from Functions.implementations import *\n",
    "from Functions.visualization import *\n",
    "import foolbox as fb"
   ]
  },
  {
   "cell_type": "code",
   "execution_count": null,
   "id": "d1dd0d29",
   "metadata": {},
   "outputs": [],
   "source": [
    "# Define your model architecture (must match the saved model)\n",
    "\n",
    "set_seed(42)\n",
    "\n",
    "model_path = \"./Results/Adam_VGG/VGG_lr_0.0005_beta1_0.9_beta2_0.99.pth\"  # Update with your model path\n",
    "\n",
    "device = torch.device(\"cuda\" if torch.cuda.is_available() else \"cpu\")\n",
    "model = VGGLike().to(device)\n",
    "model.load_state_dict(torch.load(model_path, map_location=device))\n",
    "model.eval()"
   ]
  },
  {
   "cell_type": "code",
   "execution_count": null,
   "id": "585cc497",
   "metadata": {},
   "outputs": [],
   "source": [
    "fmodel = fb.PyTorchModel(model, bounds=(0, 1))\n",
    "\n",
    "# Sample input and label\n",
    "train_loader,valid_loader, test_loader = get_data_loaders(batch_size=128)\n",
    "\n",
    "# Get a single (image, label) pair from the DataLoader\n",
    "image, label = next(iter(test_loader))  # image: [1, 3, 32, 32], label: [1]\n",
    "image = image.to(device)\n",
    "label = label.to(device)\n",
    "\n",
    "# Run a black-box attack (e.g., Boundary Attack)\n",
    "attack = fb.attacks.BoundaryAttack()\n",
    "raw_advs, clipped_advs, success = attack(fmodel, image, label, epsilons=None)\n",
    "\n",
    "print(success)"
   ]
  }
 ],
 "metadata": {
  "kernelspec": {
   "display_name": "optml",
   "language": "python",
   "name": "python3"
  },
  "language_info": {
   "codemirror_mode": {
    "name": "ipython",
    "version": 3
   },
   "file_extension": ".py",
   "mimetype": "text/x-python",
   "name": "python",
   "nbconvert_exporter": "python",
   "pygments_lexer": "ipython3",
   "version": "3.13.2"
  }
 },
 "nbformat": 4,
 "nbformat_minor": 5
}
