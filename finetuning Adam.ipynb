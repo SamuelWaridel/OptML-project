{
 "cells": [
  {
   "cell_type": "code",
   "execution_count": null,
   "id": "228af356",
   "metadata": {},
   "outputs": [
    {
     "name": "stdout",
     "output_type": "stream",
     "text": [
      "Mounted at /content/drive\n"
     ]
    }
   ],
   "source": [
    "from google.colab import drive\n",
    "drive.mount('/content/drive', force_remount=True)"
   ]
  },
  {
   "cell_type": "code",
   "execution_count": null,
   "id": "fe96d231",
   "metadata": {},
   "outputs": [
    {
     "name": "stdout",
     "output_type": "stream",
     "text": [
      "/content/drive/MyDrive/OptiML/repo/OptML-project\n"
     ]
    }
   ],
   "source": [
    "%cd /content/drive/MyDrive/OptiML/repo/OptML-project"
   ]
  },
  {
   "cell_type": "markdown",
   "id": "751f074c",
   "metadata": {},
   "source": [
    "## Global Imports"
   ]
  },
  {
   "cell_type": "code",
   "execution_count": null,
   "id": "65e8e121",
   "metadata": {},
   "outputs": [],
   "source": [
    "import numpy as np\n",
    "import matplotlib.pyplot as plt\n",
    "import seaborn as sns\n",
    "import pandas as pd\n",
    "import sklearn\n",
    "import torch\n",
    "import torchvision\n",
    "import torch.nn as nn\n",
    "import torch.optim as optim\n",
    "from torch.utils.data import DataLoader\n",
    "from torch.utils.data.sampler import SubsetRandomSampler\n",
    "from torchvision import datasets, transforms\n",
    "from sklearn.metrics import accuracy_score, recall_score, f1_score\n",
    "from Functions.implementations import *\n",
    "from sklearn.metrics import f1_score"
   ]
  },
  {
   "cell_type": "markdown",
   "id": "9bc00f87",
   "metadata": {},
   "source": [
    "## Load Data"
   ]
  },
  {
   "cell_type": "code",
   "execution_count": null,
   "id": "3efb77cb",
   "metadata": {},
   "outputs": [],
   "source": [
    "device = torch.device(\"cuda\" if torch.cuda.is_available() else \"cpu\")\n",
    "\n",
    "model = SimpleCNN().to(device)\n",
    "train_loader,valid_loader, test_loader = get_data_loaders()"
   ]
  },
  {
   "cell_type": "markdown",
   "id": "922d15e3",
   "metadata": {},
   "source": [
    "Train and evaluate a simple model to test if everything works."
   ]
  },
  {
   "cell_type": "markdown",
   "id": "77d46faf",
   "metadata": {},
   "source": [
    "# Adam :"
   ]
  },
  {
   "cell_type": "code",
   "execution_count": null,
   "id": "a09a9662",
   "metadata": {},
   "outputs": [],
   "source": [
    "import os\n",
    "\n",
    "#only for google Colab :\n",
    "\n",
    "# Set a path in your Google Drive\n",
    "csv_path = \"/content/drive/MyDrive/OptiML/OptML-project_Adam_ResNet_Transform.csv\"\n",
    "save_path = \"/content/drive/MyDrive/OptiML\"\n",
    "# For local machine, set the path to your desired location\n",
    "#save_path = os.getcwd() + \"/Results/SGD\"\n",
    "#csv_path = save_path + \"/sgd_gridsearch_results.csv\"\n",
    "\n",
    "\n",
    "epochs = 100\n",
    "eval_interval = 10\n",
    "\n",
    "# Create the CSV with headers if it doesn't exist\n",
    "if not os.path.exists(csv_path):\n",
    "    columns = [\"learning_rate\", \"momentum\"] +  [f\"epoch_{i}\" for i in range(epochs//eval_interval, epochs + 1, eval_interval)] + [\"Test\"]\n",
    "    pd.DataFrame(columns=columns).to_csv(csv_path, index=False)\n",
    "\n",
    "set_seed(42) # Set a random seed for reproducibility"
   ]
  },
  {
   "cell_type": "code",
   "execution_count": null,
   "id": "4113c8d6",
   "metadata": {},
   "outputs": [],
   "source": [
    "from itertools import product\n",
    "\n",
    "\n",
    "device = torch.device(\"cuda\" if torch.cuda.is_available() else \"cpu\")\n",
    "train_loader,valid_loader, test_loader = get_data_loaders(batch_size=128)\n",
    "\n",
    "results_grid = {}\n",
    "\n",
    "learning_rates = [1e-2, 5e-3, 1e-3]\n",
    "beta_1s = [0.9, 0.8]\n",
    "beta_2s = [0.999, 0.99]\n",
    "\n",
    "# Iterate over all combinations of lr and momentum\n",
    "for lr, beta_1, beta_2 in product(learning_rates, beta_1s, beta_2s):\n",
    "    scores, model = train_and_return_evaluation_Adam(\n",
    "        VGGLike,\n",
    "        lr=lr,\n",
    "        beta_1=beta_1,\n",
    "        beta_2=beta_2,\n",
    "        train_loader=train_loader,\n",
    "        valid_loader=valid_loader,\n",
    "        test_loader=test_loader,\n",
    "        device=device,\n",
    "        epochs=epochs,\n",
    "        eval_interval=eval_interval\n",
    "    )\n",
    "    results_grid[(lr, beta_1, beta_2)] = scores\n",
    "\n",
    "    # Extract F1 scores only, for CSV export\n",
    "    f1_scores = [f1 for (_, _, _, f1) in scores]\n",
    "\n",
    "    row = [lr, beta_1, beta_2] + f1_scores\n",
    "\n",
    "    # Append to CSV\n",
    "    df_row = pd.DataFrame([row])\n",
    "    df_row.to_csv(csv_path, mode='a', header=False, index=False)\n",
    "\n",
    "    # Save the model\n",
    "    torch.save(model.state_dict(), save_path + f\"/model_lr_{lr}_beta1_{beta_1}_beta2_{beta_2}.pth\")"
   ]
  },
  {
   "cell_type": "code",
   "execution_count": null,
   "id": "9dc5c0ae",
   "metadata": {},
   "outputs": [],
   "source": []
  }
 ],
 "metadata": {
  "language_info": {
   "name": "python"
  }
 },
 "nbformat": 4,
 "nbformat_minor": 5
}
