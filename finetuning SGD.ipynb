{
 "cells": [
  {
   "cell_type": "markdown",
   "metadata": {
    "id": "CO2mWP4U6VP6"
   },
   "source": [
    "# Main Notebook for running code"
   ]
  },
  {
   "cell_type": "code",
   "execution_count": 1,
   "metadata": {
    "colab": {
     "base_uri": "https://localhost:8080/"
    },
    "executionInfo": {
     "elapsed": 21813,
     "status": "ok",
     "timestamp": 1745054232553,
     "user": {
      "displayName": "Timothee Coester",
      "userId": "01041092910576296196"
     },
     "user_tz": -120
    },
    "id": "_JXVO_cJ6jPO",
    "outputId": "f85f3fc5-e10f-4cfd-95c8-50131511f1b6"
   },
   "outputs": [
    {
     "name": "stdout",
     "output_type": "stream",
     "text": [
      "Mounted at /content/drive\n"
     ]
    }
   ],
   "source": [
    "from google.colab import drive\n",
    "drive.mount('/content/drive', force_remount=True)"
   ]
  },
  {
   "cell_type": "code",
   "execution_count": 2,
   "metadata": {
    "colab": {
     "base_uri": "https://localhost:8080/"
    },
    "executionInfo": {
     "elapsed": 1150,
     "status": "ok",
     "timestamp": 1745054234411,
     "user": {
      "displayName": "Timothee Coester",
      "userId": "01041092910576296196"
     },
     "user_tz": -120
    },
    "id": "_yLPZ9BW6spJ",
    "outputId": "8b10fba3-fc86-4d51-9b6b-c2100f70d500"
   },
   "outputs": [
    {
     "name": "stdout",
     "output_type": "stream",
     "text": [
      "/content/drive/MyDrive/OptiML/repo/OptML-project\n"
     ]
    }
   ],
   "source": [
    "%cd /content/drive/MyDrive/OptiML/repo/OptML-project"
   ]
  },
  {
   "cell_type": "markdown",
   "metadata": {
    "id": "zPJj0dva6VP-"
   },
   "source": [
    "## Global Imports"
   ]
  },
  {
   "cell_type": "code",
   "execution_count": 3,
   "metadata": {
    "executionInfo": {
     "elapsed": 12636,
     "status": "ok",
     "timestamp": 1745054249808,
     "user": {
      "displayName": "Timothee Coester",
      "userId": "01041092910576296196"
     },
     "user_tz": -120
    },
    "id": "N271CvH86VP_"
   },
   "outputs": [],
   "source": [
    "import numpy as np\n",
    "import matplotlib.pyplot as plt\n",
    "import seaborn as sns\n",
    "import pandas as pd\n",
    "import sklearn\n",
    "import torch\n",
    "import torchvision\n",
    "import torch.nn as nn\n",
    "import torch.optim as optim\n",
    "from torch.utils.data import DataLoader\n",
    "from torch.utils.data.sampler import SubsetRandomSampler\n",
    "from torchvision import datasets, transforms\n",
    "from sklearn.metrics import accuracy_score, recall_score, f1_score\n",
    "from Functions.implementations import *\n",
    "from sklearn.metrics import f1_score"
   ]
  },
  {
   "cell_type": "markdown",
   "metadata": {
    "id": "MIlnAeS06VQA"
   },
   "source": [
    "## Load Data"
   ]
  },
  {
   "cell_type": "code",
   "execution_count": 4,
   "metadata": {
    "executionInfo": {
     "elapsed": 14446,
     "status": "ok",
     "timestamp": 1745054266754,
     "user": {
      "displayName": "Timothee Coester",
      "userId": "01041092910576296196"
     },
     "user_tz": -120
    },
    "id": "JNDjAV2f6VQB"
   },
   "outputs": [],
   "source": [
    "device = torch.device(\"cuda\" if torch.cuda.is_available() else \"cpu\")\n",
    "\n",
    "model = SimpleCNN().to(device)\n",
    "train_loader,valid_loader, test_loader = get_data_loaders()"
   ]
  },
  {
   "cell_type": "markdown",
   "metadata": {
    "id": "Jo3A5BJ_6VQB"
   },
   "source": [
    "Train and evaluate a simple model to test if everything works."
   ]
  },
  {
   "cell_type": "markdown",
   "metadata": {
    "id": "MzGYXB1z6VQC"
   },
   "source": [
    "## SGD :"
   ]
  },
  {
   "cell_type": "code",
   "execution_count": 5,
   "metadata": {
    "executionInfo": {
     "elapsed": 538,
     "status": "ok",
     "timestamp": 1745054267909,
     "user": {
      "displayName": "Timothee Coester",
      "userId": "01041092910576296196"
     },
     "user_tz": -120
    },
    "id": "fC5fGgKm6VQC"
   },
   "outputs": [],
   "source": [
    "import os\n",
    "\n",
    "#only for google Colab :\n",
    "\n",
    "# Set a path in your Google Drive\n",
    "csv_path = \"/content/drive/MyDrive/OptiML/repo/OptML-project_SGD_ResNet_Transform.csv\"\n",
    "save_path = \"/content/drive/MyDrive/OptiML/repo/OptML-project/Results/SGD\"\n",
    "# For local machine, set the path to your desired location\n",
    "#save_path = os.getcwd() + \"/Results/SGD\"\n",
    "#csv_path = save_path + \"/sgd_gridsearch_results.csv\"\n",
    "\n",
    "\n",
    "epochs = 100\n",
    "eval_interval = 10\n",
    "\n",
    "# Create the CSV with headers if it doesn't exist\n",
    "if not os.path.exists(csv_path):\n",
    "    columns = [\"learning_rate\", \"momentum\"] +  [f\"epoch_{i}\" for i in range(epochs//eval_interval, epochs + 1, eval_interval)] + [\"Test\"]\n",
    "    pd.DataFrame(columns=columns).to_csv(csv_path, index=False)\n",
    "\n",
    "set_seed(42) # Set a random seed for reproducibility"
   ]
  },
  {
   "cell_type": "code",
   "execution_count": 6,
   "metadata": {
    "colab": {
     "base_uri": "https://localhost:8080/"
    },
    "executionInfo": {
     "elapsed": 9193961,
     "status": "ok",
     "timestamp": 1745063473764,
     "user": {
      "displayName": "Timothee Coester",
      "userId": "01041092910576296196"
     },
     "user_tz": -120
    },
    "id": "xlm6NBac6VQD",
    "outputId": "52c49d10-31ca-44ba-cd0f-b7f6969f97c6"
   },
   "outputs": [
    {
     "name": "stdout",
     "output_type": "stream",
     "text": [
      "\n",
      "🔧 Training with SGD: lr=0.001, momentum=0.6\n",
      "Epoch 10 | Acc=0.4748 | Recall=0.4758 | F1=0.4709\n",
      "Epoch 20 | Acc=0.5968 | Recall=0.5966 | F1=0.5959\n",
      "Epoch 30 | Acc=0.6342 | Recall=0.6346 | F1=0.6306\n",
      "Epoch 40 | Acc=0.6986 | Recall=0.6993 | F1=0.6992\n",
      "Epoch 50 | Acc=0.7170 | Recall=0.7181 | F1=0.7163\n",
      "Epoch 60 | Acc=0.7514 | Recall=0.7517 | F1=0.7514\n",
      "Epoch 70 | Acc=0.7572 | Recall=0.7573 | F1=0.7554\n",
      "Epoch 80 | Acc=0.7854 | Recall=0.7851 | F1=0.7866\n",
      "Epoch 90 | Acc=0.7874 | Recall=0.7872 | F1=0.7891\n",
      "Epoch 100 | Acc=0.8046 | Recall=0.8045 | F1=0.8042\n",
      "\n",
      "Test Set Evaluation: Acc=0.7989 | Recall=0.7989 | F1=0.7977\n"
     ]
    }
   ],
   "source": [
    "from itertools import product\n",
    "\n",
    "\n",
    "device = torch.device(\"cuda\" if torch.cuda.is_available() else \"cpu\")\n",
    "train_loader,valid_loader, test_loader = get_data_loaders(batch_size=128)\n",
    "\n",
    "results_grid = {}\n",
    "\n",
    "# learning_rates = [5e-2, 1e-2, 5e-3, 1e-3]\n",
    "# momentums = [0.0, 0.6, 0.9, 0.99]\n",
    "\n",
    "learning_rates = [5e-3, 1e-3]\n",
    "momentums = [0.6]\n",
    "\n",
    "# Iterate over all combinations of lr and momentum\n",
    "\n",
    "for lr, momentum in product(learning_rates, momentums):\n",
    "    scores, model = train_and_return_evaluation_SGD(\n",
    "        get_resnet18_cifar,\n",
    "        lr=lr,\n",
    "        momentum=momentum,\n",
    "        train_loader=train_loader,\n",
    "        valid_loader=valid_loader,\n",
    "        test_loader=test_loader,\n",
    "        device=device,\n",
    "        epochs=epochs,\n",
    "        eval_interval=eval_interval\n",
    "    )\n",
    "    results_grid[(lr, momentum)] = scores\n",
    "\n",
    "    # Extract F1 scores only, for CSV export\n",
    "    f1_scores = [f1 for (_, _, _, f1) in scores]\n",
    "\n",
    "    row = [lr, momentum] + f1_scores\n",
    "\n",
    "    # Append to CSV\n",
    "    df_row = pd.DataFrame([row])\n",
    "    df_row.to_csv(csv_path, mode='a', header=False, index=False)\n",
    "\n",
    "    # Save the model\n",
    "    torch.save(model.state_dict(), save_path + f\"/ResNet_Transform_lr_{lr}_momentum_{momentum}.pth\")"
   ]
  }
 ],
 "metadata": {
  "accelerator": "GPU",
  "colab": {
   "gpuType": "T4",
   "provenance": []
  },
  "kernelspec": {
   "display_name": "optml",
   "language": "python",
   "name": "python3"
  },
  "language_info": {
   "codemirror_mode": {
    "name": "ipython",
    "version": 3
   },
   "file_extension": ".py",
   "mimetype": "text/x-python",
   "name": "python",
   "nbconvert_exporter": "python",
   "pygments_lexer": "ipython3",
   "version": "3.13.2"
  }
 },
 "nbformat": 4,
 "nbformat_minor": 0
}
