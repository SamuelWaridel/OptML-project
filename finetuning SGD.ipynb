{
 "cells": [
  {
   "cell_type": "markdown",
   "metadata": {
    "id": "CO2mWP4U6VP6"
   },
   "source": [
    "# Main Notebook for running code"
   ]
  },
  {
   "cell_type": "code",
   "execution_count": 1,
   "metadata": {
    "colab": {
     "base_uri": "https://localhost:8080/"
    },
    "executionInfo": {
     "elapsed": 125721,
     "status": "ok",
     "timestamp": 1745846211780,
     "user": {
      "displayName": "Timothee Coester",
      "userId": "01041092910576296196"
     },
     "user_tz": -120
    },
    "id": "_JXVO_cJ6jPO",
    "outputId": "1697c9d0-16ea-4c81-e6fc-7333c9cfda2f"
   },
   "outputs": [
    {
     "name": "stdout",
     "output_type": "stream",
     "text": [
      "Mounted at /content/drive\n"
     ]
    }
   ],
   "source": [
    "from google.colab import drive\n",
    "drive.mount('/content/drive', force_remount=True)"
   ]
  },
  {
   "cell_type": "code",
   "execution_count": 2,
   "metadata": {
    "colab": {
     "base_uri": "https://localhost:8080/"
    },
    "executionInfo": {
     "elapsed": 2494,
     "status": "ok",
     "timestamp": 1745846217967,
     "user": {
      "displayName": "Timothee Coester",
      "userId": "01041092910576296196"
     },
     "user_tz": -120
    },
    "id": "_yLPZ9BW6spJ",
    "outputId": "9df5d21e-cb1e-4984-fea2-17c4550d7d6e"
   },
   "outputs": [
    {
     "name": "stdout",
     "output_type": "stream",
     "text": [
      "/content/drive/MyDrive/OptiML/repo/OptML-project\n"
     ]
    }
   ],
   "source": [
    "%cd /content/drive/MyDrive/OptiML/repo/OptML-project"
   ]
  },
  {
   "cell_type": "markdown",
   "metadata": {
    "id": "zPJj0dva6VP-"
   },
   "source": [
    "## Global Imports"
   ]
  },
  {
   "cell_type": "code",
   "execution_count": 3,
   "metadata": {
    "executionInfo": {
     "elapsed": 12664,
     "status": "ok",
     "timestamp": 1745846239397,
     "user": {
      "displayName": "Timothee Coester",
      "userId": "01041092910576296196"
     },
     "user_tz": -120
    },
    "id": "N271CvH86VP_"
   },
   "outputs": [],
   "source": [
    "import numpy as np\n",
    "import matplotlib.pyplot as plt\n",
    "import seaborn as sns\n",
    "import pandas as pd\n",
    "import sklearn\n",
    "import torch\n",
    "import torchvision\n",
    "import torch.nn as nn\n",
    "import torch.optim as optim\n",
    "from torch.utils.data import DataLoader\n",
    "from torch.utils.data.sampler import SubsetRandomSampler\n",
    "from torchvision import datasets, transforms\n",
    "from sklearn.metrics import accuracy_score, recall_score, f1_score\n",
    "from Functions.implementations import *\n",
    "from sklearn.metrics import f1_score"
   ]
  },
  {
   "cell_type": "markdown",
   "metadata": {
    "id": "MIlnAeS06VQA"
   },
   "source": [
    "## Load Data"
   ]
  },
  {
   "cell_type": "code",
   "execution_count": 4,
   "metadata": {
    "executionInfo": {
     "elapsed": 19131,
     "status": "ok",
     "timestamp": 1745846263056,
     "user": {
      "displayName": "Timothee Coester",
      "userId": "01041092910576296196"
     },
     "user_tz": -120
    },
    "id": "JNDjAV2f6VQB"
   },
   "outputs": [],
   "source": [
    "device = torch.device(\"cuda\" if torch.cuda.is_available() else \"cpu\")\n",
    "\n",
    "model = SimpleCNN().to(device)\n",
    "train_loader,valid_loader, test_loader = get_data_loaders()"
   ]
  },
  {
   "cell_type": "markdown",
   "metadata": {
    "id": "Jo3A5BJ_6VQB"
   },
   "source": [
    "Train and evaluate a simple model to test if everything works."
   ]
  },
  {
   "cell_type": "markdown",
   "metadata": {
    "id": "MzGYXB1z6VQC"
   },
   "source": [
    "## SGD :"
   ]
  },
  {
   "cell_type": "code",
   "execution_count": 5,
   "metadata": {
    "executionInfo": {
     "elapsed": 642,
     "status": "ok",
     "timestamp": 1745846266823,
     "user": {
      "displayName": "Timothee Coester",
      "userId": "01041092910576296196"
     },
     "user_tz": -120
    },
    "id": "fC5fGgKm6VQC"
   },
   "outputs": [],
   "source": [
    "import os\n",
    "\n",
    "#only for google Colab :\n",
    "\n",
    "# Set a path in your Google Drive\n",
    "csv_path = \"/content/drive/MyDrive/OptiML/repo/OptML-project_SGD_DenseNet_Transform.csv\"\n",
    "save_path = \"/content/drive/MyDrive/OptiML/repo/OptML-project/Results/SGD\"\n",
    "# For local machine, set the path to your desired location\n",
    "#save_path = os.getcwd() + \"/Results/SGD\"\n",
    "#csv_path = save_path + \"/sgd_gridsearch_results.csv\"\n",
    "\n",
    "\n",
    "epochs = 100\n",
    "eval_interval = 10\n",
    "\n",
    "# Create the CSV with headers if it doesn't exist\n",
    "if not os.path.exists(csv_path):\n",
    "    columns = [\"learning_rate\", \"momentum\"] +  [f\"epoch_{i}\" for i in range(epochs//eval_interval, epochs + 1, eval_interval)] + [\"Test\"]\n",
    "    pd.DataFrame(columns=columns).to_csv(csv_path, index=False)\n",
    "\n",
    "set_seed(42) # Set a random seed for reproducibility"
   ]
  },
  {
   "cell_type": "code",
   "execution_count": 8,
   "metadata": {
    "colab": {
     "base_uri": "https://localhost:8080/"
    },
    "executionInfo": {
     "elapsed": 28616103,
     "status": "ok",
     "timestamp": 1745904551840,
     "user": {
      "displayName": "Timothee Coester",
      "userId": "01041092910576296196"
     },
     "user_tz": -120
    },
    "id": "xlm6NBac6VQD",
    "outputId": "12af5f6e-6cad-4d79-e5f3-7ea0880dddb4"
   },
   "outputs": [
    {
     "name": "stdout",
     "output_type": "stream",
     "text": [
      "\n",
      "🔧 Training with SGD: lr=0.005, momentum=0.9\n",
      "Epoch 10 | Acc=0.7982 | Recall=0.7985 | F1=0.8008\n",
      "Epoch 20 | Acc=0.8420 | Recall=0.8422 | F1=0.8418\n",
      "Epoch 30 | Acc=0.8600 | Recall=0.8607 | F1=0.8606\n",
      "Epoch 40 | Acc=0.8688 | Recall=0.8689 | F1=0.8693\n",
      "Epoch 50 | Acc=0.8620 | Recall=0.8627 | F1=0.8635\n",
      "Epoch 60 | Acc=0.8862 | Recall=0.8857 | F1=0.8857\n",
      "Epoch 70 | Acc=0.8828 | Recall=0.8829 | F1=0.8825\n",
      "Epoch 80 | Acc=0.8884 | Recall=0.8884 | F1=0.8889\n",
      "Epoch 90 | Acc=0.8894 | Recall=0.8893 | F1=0.8889\n",
      "Epoch 100 | Acc=0.8862 | Recall=0.8862 | F1=0.8862\n",
      "\n",
      "Test Set Evaluation: Acc=0.8857 | Recall=0.8857 | F1=0.8854\n"
     ]
    }
   ],
   "source": [
    "from itertools import product\n",
    "\n",
    "\n",
    "device = torch.device(\"cuda\" if torch.cuda.is_available() else \"cpu\")\n",
    "train_loader,valid_loader, test_loader = get_data_loaders(batch_size=128)\n",
    "\n",
    "results_grid = {}\n",
    "\n",
    "# learning_rates = [5e-2, 1e-2, 5e-3, 1e-3]\n",
    "# momentums = [0.0, 0.6, 0.9, 0.99]\n",
    "\n",
    "learning_rates = [1e-2, 5e-3]\n",
    "momentums = [0.9]\n",
    "\n",
    "# Iterate over all combinations of lr and momentum\n",
    "\n",
    "for lr, momentum in product(learning_rates, momentums):\n",
    "    scores, model = train_and_return_evaluation_SGD(\n",
    "        get_densenet121,\n",
    "        lr=lr,\n",
    "        momentum=momentum,\n",
    "        train_loader=train_loader,\n",
    "        valid_loader=valid_loader,\n",
    "        test_loader=test_loader,\n",
    "        device=device,\n",
    "        epochs=epochs,\n",
    "        eval_interval=eval_interval\n",
    "    )\n",
    "    results_grid[(lr, momentum)] = scores\n",
    "\n",
    "    # Extract F1 scores only, for CSV export\n",
    "    f1_scores = [f1 for (_, _, _, f1) in scores]\n",
    "\n",
    "    row = [lr, momentum] + f1_scores\n",
    "\n",
    "    # Append to CSV\n",
    "    df_row = pd.DataFrame([row])\n",
    "    df_row.to_csv(csv_path, mode='a', header=False, index=False)\n",
    "\n",
    "    # Save the model\n",
    "    torch.save(model.state_dict(), save_path + f\"/DenseNet_Transform_lr_{lr}_momentum_{momentum}.pth\")"
   ]
  },
  {
   "cell_type": "markdown",
   "metadata": {
    "id": "phHlE2TP6VQD"
   },
   "source": [
    "# Adam :"
   ]
  },
  {
   "cell_type": "code",
   "execution_count": null,
   "metadata": {
    "id": "TxbI7F426VQD"
   },
   "outputs": [],
   "source": [
    "import os\n",
    "\n",
    "#only for google Colab :\n",
    "\n",
    "# Set a path in your Google Drive\n",
    "#csv_path = \"/content/drive/MyDrive/OptiML/sgd_gridsearch_results.csv\"\n",
    "\n",
    "# For local machine, set the path to your desired location\n",
    "save_path = os.getcwd() + \"/Results/Adam\"\n",
    "csv_path = save_path + \"/adam_gridsearch_results.csv\"\n",
    "\n",
    "# Set number of epochs and evaluation interval\n",
    "epochs = 100\n",
    "eval_interval = 10\n",
    "\n",
    "# Create the CSV with headers if it doesn't exist\n",
    "if not os.path.exists(csv_path):\n",
    "    columns = [\"learning_rate\", \"momentum\"] +  [f\"epoch_{i}\" for i in range(epochs//eval_interval, epochs + 1, eval_interval)] + [\"Test\"]\n",
    "    pd.DataFrame(columns=columns).to_csv(csv_path, index=False)\n",
    "\n",
    "set_seed(42) # Set a random seed for reproducibility"
   ]
  },
  {
   "cell_type": "code",
   "execution_count": null,
   "metadata": {
    "id": "hGXV-LJf6VQE"
   },
   "outputs": [],
   "source": [
    "from itertools import product\n",
    "\n",
    "\n",
    "device = torch.device(\"cuda\" if torch.cuda.is_available() else \"cpu\")\n",
    "train_loader, test_loader = get_data_loaders(batch_size=128)\n",
    "\n",
    "results_grid = {}\n",
    "\n",
    "# learning_rates = [5e-2, 1e-2, 5e-3, 1e-3]\n",
    "# betas = [(0.9, 0.999), (0.8, 0.999), (0.9, 0.99)]\n",
    "\n",
    "learning_rates = [1e-2]\n",
    "betas = [(0.9, 0.999), (0.8, 0.999), (0.9, 0.99)]\n",
    "\n",
    "# Iterate over all combinations of lr and momentum\n",
    "for lr, betas in product(learning_rates, betas):\n",
    "    scores = train_and_return_evaluation_Adam(\n",
    "        VGGLike,\n",
    "        lr=lr,\n",
    "        betas=betas,\n",
    "        train_loader=train_loader,\n",
    "        test_loader=test_loader,\n",
    "        device=device,\n",
    "        epochs=epochs,\n",
    "        eval_interval=eval_interval\n",
    "    )\n",
    "    results_grid[(lr, betas[0], betas[1])] = scores\n",
    "\n",
    "    # Extract F1 scores only, for CSV export\n",
    "    f1_scores = [f1 for (_, _, _, f1) in scores]\n",
    "\n",
    "    row = [lr, betas[0], betas[1]] + f1_scores\n",
    "\n",
    "    # Append to CSV\n",
    "    df_row = pd.DataFrame([row])\n",
    "    df_row.to_csv(csv_path, mode='a', header=False, index=False)\n",
    "\n",
    "    # Save the model\n",
    "    torch.save(model.state_dict(), save_path + f\"/model_lr_{lr}_beta1_{betas[0]}_beta2_{betas[2]}.pth\")"
   ]
  },
  {
   "cell_type": "markdown",
   "metadata": {
    "id": "ZvRU1mqf6VQE"
   },
   "source": [
    "Test on colab :\n",
    "\n",
    "lr = 0.05\n",
    "- (0.9, 0.999) : F1 ~ 0.18\n",
    "- (0.8, 0.999) : F1 ~ 0.18\n",
    "- (0.9, 0.99) : F1 ~\n",
    "\n",
    "lr = 0.01\n",
    "- (0.9, 0.999) : F1 ~\n",
    "- (0.8, 0.999) : F1 ~\n",
    "- (0.9, 0.99) : F1 ~\n",
    "\n",
    "lr = 0.005\n",
    "- (0.9, 0.999) : F1 ~\n",
    "- (0.8, 0.999) : F1 ~\n",
    "- (0.9, 0.99) : F1 ~\n",
    "\n",
    "lr = 0.001\n",
    "- (0.9, 0.999) : F1 ~\n",
    "- (0.8, 0.999) : F1 ~\n",
    "- (0.9, 0.99) : F1 ~"
   ]
  },
  {
   "cell_type": "code",
   "execution_count": null,
   "metadata": {
    "id": "CxNfHTNZ6VQE"
   },
   "outputs": [],
   "source": []
  }
 ],
 "metadata": {
  "accelerator": "GPU",
  "colab": {
   "gpuType": "T4",
   "provenance": []
  },
  "kernelspec": {
   "display_name": "optml",
   "language": "python",
   "name": "python3"
  },
  "language_info": {
   "codemirror_mode": {
    "name": "ipython",
    "version": 3
   },
   "file_extension": ".py",
   "mimetype": "text/x-python",
   "name": "python",
   "nbconvert_exporter": "python",
   "pygments_lexer": "ipython3",
   "version": "3.13.2"
  }
 },
 "nbformat": 4,
 "nbformat_minor": 0
}
