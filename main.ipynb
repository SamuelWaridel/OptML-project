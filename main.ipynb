{
 "cells": [
  {
   "cell_type": "markdown",
   "metadata": {},
   "source": [
    "# Main Notebook for running code"
   ]
  },
  {
   "cell_type": "markdown",
   "metadata": {},
   "source": [
    "## Global Imports"
   ]
  },
  {
   "cell_type": "code",
   "execution_count": 1,
   "metadata": {},
   "outputs": [],
   "source": [
    "import numpy as np\n",
    "import matplotlib.pyplot as plt\n",
    "import seaborn as sns\n",
    "import pandas as pd\n",
    "import sklearn\n",
    "import torch\n",
    "import torchvision\n",
    "import torch.nn as nn\n",
    "import torch.optim as optim\n",
    "from torch.utils.data import DataLoader\n",
    "from torch.utils.data.sampler import SubsetRandomSampler\n",
    "from torchvision import datasets, transforms\n",
    "from sklearn.metrics import accuracy_score, recall_score, f1_score\n",
    "from Functions.implementations import *"
   ]
  },
  {
   "cell_type": "markdown",
   "metadata": {},
   "source": [
    "## Load Data"
   ]
  },
  {
   "cell_type": "code",
   "execution_count": 5,
   "metadata": {},
   "outputs": [],
   "source": [
    "device = torch.device(\"cuda\" if torch.cuda.is_available() else \"cpu\")\n",
    "\n",
    "model = SimpleCNN().to(device)\n",
    "train_loader,valid_loader, test_loader = get_data_loaders()"
   ]
  },
  {
   "cell_type": "markdown",
   "metadata": {},
   "source": [
    "Train and evaluate a simple model to test if everything works."
   ]
  },
  {
   "cell_type": "code",
   "execution_count": null,
   "metadata": {},
   "outputs": [],
   "source": [
    "criterion = nn.CrossEntropyLoss()\n",
    "optimizer = optim.Adam(model.parameters(), lr=0.001)\n",
    "\n",
    "train(model, train_loader, test_loader, optimizer, criterion, device, num_epochs=5)"
   ]
  },
  {
   "cell_type": "markdown",
   "metadata": {},
   "source": [
    "## SGD :"
   ]
  },
  {
   "cell_type": "code",
   "execution_count": null,
   "metadata": {},
   "outputs": [],
   "source": [
    "import os\n",
    "\n",
    "#only for google Colab :\n",
    "\n",
    "# Set a path in your Google Drive\n",
    "#csv_path = \"/content/drive/MyDrive/OptiML/sgd_gridsearch_results.csv\"\n",
    "\n",
    "# For local machine, set the path to your desired location\n",
    "save_path = os.getcwd() + \"/Results/SGD\"\n",
    "csv_path = save_path + \"/sgd_gridsearch_results.csv\"\n",
    "\n",
    "\n",
    "epochs = 100\n",
    "eval_interval = 10\n",
    "\n",
    "# Create the CSV with headers if it doesn't exist\n",
    "if not os.path.exists(csv_path):\n",
    "    columns = [\"learning_rate\", \"momentum\"] +  [f\"epoch_{i}\" for i in range(epochs//eval_interval, epochs + 1, eval_interval)] + [\"Test\"]\n",
    "    pd.DataFrame(columns=columns).to_csv(csv_path, index=False)\n",
    "    \n",
    "set_seed(42) # Set a random seed for reproducibility"
   ]
  },
  {
   "cell_type": "code",
   "execution_count": null,
   "metadata": {},
   "outputs": [],
   "source": [
    "from itertools import product\n",
    "\n",
    "\n",
    "device = torch.device(\"cuda\" if torch.cuda.is_available() else \"cpu\")\n",
    "train_loader,valid_loader, test_loader = get_data_loaders(batch_size=128)\n",
    "\n",
    "results_grid = {}\n",
    "\n",
    "# learning_rates = [5e-2, 1e-2, 5e-3, 1e-3]\n",
    "# momentums = [0.0, 0.6, 0.9, 0.99]\n",
    "\n",
    "learning_rates = [1e-2, 5e-3]\n",
    "momentums = [0.9]\n",
    "\n",
    "# Iterate over all combinations of lr and momentum\n",
    "for lr, momentum in product(learning_rates, momentums):\n",
    "    scores, model = train_and_return_evaluation_SGD(\n",
    "        SimpleCNN,\n",
    "        lr=lr,\n",
    "        momentum=momentum,\n",
    "        train_loader=train_loader,\n",
    "        valid_loader=valid_loader,\n",
    "        test_loader=test_loader,\n",
    "        device=device,\n",
    "        epochs=epochs,\n",
    "        eval_interval=eval_interval\n",
    "    )\n",
    "    results_grid[(lr, momentum)] = scores\n",
    "\n",
    "    # Extract F1 scores only, for CSV export\n",
    "    f1_scores = [f1 for (_, _, _, f1) in scores]\n",
    "\n",
    "    row = [lr, momentum] + f1_scores\n",
    "\n",
    "    # Append to CSV\n",
    "    df_row = pd.DataFrame([row])\n",
    "    df_row.to_csv(csv_path, mode='a', header=False, index=False)\n",
    "    \n",
    "    # Save the model\n",
    "    torch.save(model.state_dict(), save_path + f\"/model_lr_{lr}_momentum_{momentum}.pth\")"
   ]
  },
  {
   "cell_type": "markdown",
   "metadata": {},
   "source": [
    "# Adam :"
   ]
  },
  {
   "cell_type": "code",
   "execution_count": null,
   "metadata": {},
   "outputs": [],
   "source": [
    "import os\n",
    "\n",
    "#only for google Colab :\n",
    "\n",
    "# Set a path in your Google Drive\n",
    "#csv_path = \"/content/drive/MyDrive/OptiML/sgd_gridsearch_results.csv\"\n",
    "\n",
    "# For local machine, set the path to your desired location\n",
    "save_path = os.getcwd() + \"/Results/Adam\"\n",
    "csv_path = save_path + \"/adam_gridsearch_results.csv\"\n",
    "\n",
    "# Set number of epochs and evaluation interval\n",
    "epochs = 100\n",
    "eval_interval = 10\n",
    "\n",
    "# Create the CSV with headers if it doesn't exist\n",
    "if not os.path.exists(csv_path):\n",
    "    columns = [\"learning_rate\", \"momentum\"] +  [f\"epoch_{i}\" for i in range(epochs//eval_interval, epochs + 1, eval_interval)] + [\"Test\"]\n",
    "    pd.DataFrame(columns=columns).to_csv(csv_path, index=False)\n",
    "\n",
    "set_seed(42) # Set a random seed for reproducibility"
   ]
  },
  {
   "cell_type": "code",
   "execution_count": null,
   "metadata": {},
   "outputs": [],
   "source": [
    "from itertools import product\n",
    "\n",
    "\n",
    "device = torch.device(\"cuda\" if torch.cuda.is_available() else \"cpu\")\n",
    "train_loader, test_loader = get_data_loaders(batch_size=128)\n",
    "\n",
    "results_grid = {}\n",
    "\n",
    "# learning_rates = [5e-2, 1e-2, 5e-3, 1e-3]\n",
    "# betas = [(0.9, 0.999), (0.8, 0.999), (0.9, 0.99)]\n",
    "\n",
    "learning_rates = [1e-2]\n",
    "betas = [(0.9, 0.999), (0.8, 0.999), (0.9, 0.99)]\n",
    "\n",
    "# Iterate over all combinations of lr and momentum\n",
    "for lr, betas in product(learning_rates, betas):\n",
    "    scores = train_and_return_evaluation_Adam(\n",
    "        VGGLike,\n",
    "        lr=lr,\n",
    "        betas=betas,\n",
    "        train_loader=train_loader,\n",
    "        test_loader=test_loader,\n",
    "        device=device,\n",
    "        epochs=epochs,\n",
    "        eval_interval=eval_interval\n",
    "    )\n",
    "    results_grid[(lr, betas[0], betas[1])] = scores\n",
    "\n",
    "    # Extract F1 scores only, for CSV export\n",
    "    f1_scores = [f1 for (_, _, _, f1) in scores]\n",
    "\n",
    "    row = [lr, betas[0], betas[1]] + f1_scores\n",
    "\n",
    "    # Append to CSV\n",
    "    df_row = pd.DataFrame([row])\n",
    "    df_row.to_csv(csv_path, mode='a', header=False, index=False)\n",
    "    \n",
    "    # Save the model\n",
    "    torch.save(model.state_dict(), save_path + f\"/model_lr_{lr}_beta1_{betas[0]}_beta2_{betas[2]}.pth\")"
   ]
  },
  {
   "cell_type": "markdown",
   "metadata": {},
   "source": [
    "Test on colab :\n",
    "\n",
    "lr = 0.05\n",
    "- (0.9, 0.999) : F1 ~ 0.18\n",
    "- (0.8, 0.999) : F1 ~ 0.18\n",
    "- (0.9, 0.99) : F1 ~ \n",
    "\n",
    "lr = 0.01\n",
    "- (0.9, 0.999) : F1 ~ \n",
    "- (0.8, 0.999) : F1 ~ \n",
    "- (0.9, 0.99) : F1 ~ \n",
    "\n",
    "lr = 0.005\n",
    "- (0.9, 0.999) : F1 ~ \n",
    "- (0.8, 0.999) : F1 ~ \n",
    "- (0.9, 0.99) : F1 ~ \n",
    "\n",
    "lr = 0.001\n",
    "- (0.9, 0.999) : F1 ~ \n",
    "- (0.8, 0.999) : F1 ~ \n",
    "- (0.9, 0.99) : F1 ~ "
   ]
  },
  {
   "cell_type": "code",
   "execution_count": null,
   "metadata": {},
   "outputs": [],
   "source": []
  }
 ],
 "metadata": {
  "kernelspec": {
   "display_name": "optml",
   "language": "python",
   "name": "python3"
  },
  "language_info": {
   "codemirror_mode": {
    "name": "ipython",
    "version": 3
   },
   "file_extension": ".py",
   "mimetype": "text/x-python",
   "name": "python",
   "nbconvert_exporter": "python",
   "pygments_lexer": "ipython3",
   "version": "3.13.2"
  }
 },
 "nbformat": 4,
 "nbformat_minor": 2
}
